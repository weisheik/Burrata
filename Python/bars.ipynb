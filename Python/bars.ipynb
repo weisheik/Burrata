{
 "cells": [
  {
   "cell_type": "code",
   "execution_count": null,
   "metadata": {},
   "outputs": [],
   "source": [
    "\"\"\"\n",
    "Financial Machine Learning Part 0: Bars\n",
    "https://towardsdatascience.com/financial-machine-learning-part-0-bars-745897d4e4ba\n",
    "\n",
    "We must aim for a bar representation in which each bar contains the same amount of information, \n",
    "however time-based bars will oversample slow periods and undersample high activity periods. To\n",
    "avoid this problem, the idea is to sample observations as a function of market activity.\n",
    "\"\"\""
   ]
  },
  {
   "cell_type": "code",
   "execution_count": 1,
   "metadata": {},
   "outputs": [],
   "source": [
    "\"\"\"\n",
    "Setup\n",
    "\"\"\"\n",
    "import numpy as np\n",
    "import pandas as pd\n",
    "import matplotlib.pyplot as plt\n",
    "import matplotlib.dates as mdates\n",
    "from datetime import datetime\n",
    "\n",
    "# raw trade data from https://public.bitmex.com/?prefix=data/trade/\n",
    "data = pd.read_csv('data/trade_20181127.csv')\n",
    "data = data.append(pd.read_csv('data/trade_20181128.csv')) # add a few more days\n",
    "data = data.append(pd.read_csv('data/trade_20181129.csv'))\n",
    "data = data[data.symbol == 'XBTUSD']\n",
    "\n",
    "# timestamp parsing\n",
    "data['timestamp'] = data.timestamp.map(lambda t: datetime.strptime(t[:-3], \"%Y-%m-%dD%H:%M:%S.%f\"))"
   ]
  },
  {
   "cell_type": "code",
   "execution_count": 2,
   "metadata": {},
   "outputs": [
    {
     "data": {
      "text/html": [
       "<div>\n",
       "<style scoped>\n",
       "    .dataframe tbody tr th:only-of-type {\n",
       "        vertical-align: middle;\n",
       "    }\n",
       "\n",
       "    .dataframe tbody tr th {\n",
       "        vertical-align: top;\n",
       "    }\n",
       "\n",
       "    .dataframe thead th {\n",
       "        text-align: right;\n",
       "    }\n",
       "</style>\n",
       "<table border=\"1\" class=\"dataframe\">\n",
       "  <thead>\n",
       "    <tr style=\"text-align: right;\">\n",
       "      <th></th>\n",
       "      <th>timestamp</th>\n",
       "      <th>symbol</th>\n",
       "      <th>side</th>\n",
       "      <th>size</th>\n",
       "      <th>price</th>\n",
       "      <th>tickDirection</th>\n",
       "      <th>trdMatchID</th>\n",
       "      <th>grossValue</th>\n",
       "      <th>homeNotional</th>\n",
       "      <th>foreignNotional</th>\n",
       "    </tr>\n",
       "  </thead>\n",
       "  <tbody>\n",
       "    <tr>\n",
       "      <th>218349</th>\n",
       "      <td>2018-11-27 00:00:03.851282</td>\n",
       "      <td>XBTUSD</td>\n",
       "      <td>Buy</td>\n",
       "      <td>10</td>\n",
       "      <td>3724.5</td>\n",
       "      <td>ZeroPlusTick</td>\n",
       "      <td>538c244f-a1a9-61db-da2e-6db7b76e7507</td>\n",
       "      <td>268490</td>\n",
       "      <td>0.002685</td>\n",
       "      <td>10.0</td>\n",
       "    </tr>\n",
       "    <tr>\n",
       "      <th>218350</th>\n",
       "      <td>2018-11-27 00:00:04.250260</td>\n",
       "      <td>XBTUSD</td>\n",
       "      <td>Buy</td>\n",
       "      <td>20</td>\n",
       "      <td>3724.5</td>\n",
       "      <td>ZeroPlusTick</td>\n",
       "      <td>c50cf101-1c0d-445f-42c4-fc5339641968</td>\n",
       "      <td>536980</td>\n",
       "      <td>0.005370</td>\n",
       "      <td>20.0</td>\n",
       "    </tr>\n",
       "    <tr>\n",
       "      <th>218351</th>\n",
       "      <td>2018-11-27 00:00:04.250260</td>\n",
       "      <td>XBTUSD</td>\n",
       "      <td>Buy</td>\n",
       "      <td>480</td>\n",
       "      <td>3724.5</td>\n",
       "      <td>ZeroPlusTick</td>\n",
       "      <td>b71da1f1-b76e-c1e5-59ab-765438000186</td>\n",
       "      <td>12887520</td>\n",
       "      <td>0.128875</td>\n",
       "      <td>480.0</td>\n",
       "    </tr>\n",
       "    <tr>\n",
       "      <th>218352</th>\n",
       "      <td>2018-11-27 00:00:04.255471</td>\n",
       "      <td>XBTUSD</td>\n",
       "      <td>Buy</td>\n",
       "      <td>1000</td>\n",
       "      <td>3724.5</td>\n",
       "      <td>ZeroPlusTick</td>\n",
       "      <td>f7741936-b74c-844b-5023-a85712fe819e</td>\n",
       "      <td>26849000</td>\n",
       "      <td>0.268490</td>\n",
       "      <td>1000.0</td>\n",
       "    </tr>\n",
       "    <tr>\n",
       "      <th>218353</th>\n",
       "      <td>2018-11-27 00:00:04.262041</td>\n",
       "      <td>XBTUSD</td>\n",
       "      <td>Buy</td>\n",
       "      <td>1000</td>\n",
       "      <td>3724.5</td>\n",
       "      <td>ZeroPlusTick</td>\n",
       "      <td>9f5d581b-0eef-4dcd-16a2-019488ec38b8</td>\n",
       "      <td>26849000</td>\n",
       "      <td>0.268490</td>\n",
       "      <td>1000.0</td>\n",
       "    </tr>\n",
       "  </tbody>\n",
       "</table>\n",
       "</div>"
      ],
      "text/plain": [
       "                        timestamp  symbol side  size   price tickDirection  \\\n",
       "218349 2018-11-27 00:00:03.851282  XBTUSD  Buy    10  3724.5  ZeroPlusTick   \n",
       "218350 2018-11-27 00:00:04.250260  XBTUSD  Buy    20  3724.5  ZeroPlusTick   \n",
       "218351 2018-11-27 00:00:04.250260  XBTUSD  Buy   480  3724.5  ZeroPlusTick   \n",
       "218352 2018-11-27 00:00:04.255471  XBTUSD  Buy  1000  3724.5  ZeroPlusTick   \n",
       "218353 2018-11-27 00:00:04.262041  XBTUSD  Buy  1000  3724.5  ZeroPlusTick   \n",
       "\n",
       "                                  trdMatchID  grossValue  homeNotional  \\\n",
       "218349  538c244f-a1a9-61db-da2e-6db7b76e7507      268490      0.002685   \n",
       "218350  c50cf101-1c0d-445f-42c4-fc5339641968      536980      0.005370   \n",
       "218351  b71da1f1-b76e-c1e5-59ab-765438000186    12887520      0.128875   \n",
       "218352  f7741936-b74c-844b-5023-a85712fe819e    26849000      0.268490   \n",
       "218353  9f5d581b-0eef-4dcd-16a2-019488ec38b8    26849000      0.268490   \n",
       "\n",
       "        foreignNotional  \n",
       "218349             10.0  \n",
       "218350             20.0  \n",
       "218351            480.0  \n",
       "218352           1000.0  \n",
       "218353           1000.0  "
      ]
     },
     "execution_count": 2,
     "metadata": {},
     "output_type": "execute_result"
    }
   ],
   "source": [
    "data.head()"
   ]
  },
  {
   "cell_type": "code",
   "execution_count": 18,
   "metadata": {},
   "outputs": [
    {
     "data": {
      "text/plain": [
       "<matplotlib.axes._subplots.AxesSubplot at 0x23550e92e10>"
      ]
     },
     "execution_count": 18,
     "metadata": {},
     "output_type": "execute_result"
    },
    {
     "data": {
      "image/png": "[encoded data removed]",
      "text/plain": [
       "<Figure size 432x288 with 1 Axes>"
      ]
     },
     "metadata": {
      "needs_background": "light"
     },
     "output_type": "display_data"
    }
   ],
   "source": [
    "data['price'].plot()"
   ]
  },
  {
   "cell_type": "code",
   "execution_count": 3,
   "metadata": {},
   "outputs": [],
   "source": [
    "\"\"\"\n",
    "Time Bars\n",
    "\"\"\"\n",
    "def compute_vwap(df):\n",
    "    q = df['foreignNotional']\n",
    "    p = df['price']\n",
    "    vwap = np.sum(p * q) / np.sum(q)\n",
    "    df['vwap'] = vwap\n",
    "    return df\n",
    "data_timeidx = data.set_index('timestamp')\n",
    "data_time_grp = data_timeidx.groupby(pd.Grouper(freq='15Min'))\n",
    "num_time_bars = len(data_time_grp) # comes in handy later\n",
    "data_time_vwap = data_time_grp.apply(compute_vwap)"
   ]
  },
  {
   "cell_type": "code",
   "execution_count": 4,
   "metadata": {},
   "outputs": [
    {
     "data": {
      "text/html": [
       "<div>\n",
       "<style scoped>\n",
       "    .dataframe tbody tr th:only-of-type {\n",
       "        vertical-align: middle;\n",
       "    }\n",
       "\n",
       "    .dataframe tbody tr th {\n",
       "        vertical-align: top;\n",
       "    }\n",
       "\n",
       "    .dataframe thead th {\n",
       "        text-align: right;\n",
       "    }\n",
       "</style>\n",
       "<table border=\"1\" class=\"dataframe\">\n",
       "  <thead>\n",
       "    <tr style=\"text-align: right;\">\n",
       "      <th></th>\n",
       "      <th>symbol</th>\n",
       "      <th>side</th>\n",
       "      <th>size</th>\n",
       "      <th>price</th>\n",
       "      <th>tickDirection</th>\n",
       "      <th>trdMatchID</th>\n",
       "      <th>grossValue</th>\n",
       "      <th>homeNotional</th>\n",
       "      <th>foreignNotional</th>\n",
       "      <th>vwap</th>\n",
       "    </tr>\n",
       "    <tr>\n",
       "      <th>timestamp</th>\n",
       "      <th></th>\n",
       "      <th></th>\n",
       "      <th></th>\n",
       "      <th></th>\n",
       "      <th></th>\n",
       "      <th></th>\n",
       "      <th></th>\n",
       "      <th></th>\n",
       "      <th></th>\n",
       "      <th></th>\n",
       "    </tr>\n",
       "  </thead>\n",
       "  <tbody>\n",
       "    <tr>\n",
       "      <th>2018-11-27 00:00:03.851282</th>\n",
       "      <td>XBTUSD</td>\n",
       "      <td>Buy</td>\n",
       "      <td>10</td>\n",
       "      <td>3724.5</td>\n",
       "      <td>ZeroPlusTick</td>\n",
       "      <td>538c244f-a1a9-61db-da2e-6db7b76e7507</td>\n",
       "      <td>268490</td>\n",
       "      <td>0.002685</td>\n",
       "      <td>10.0</td>\n",
       "      <td>3714.091867</td>\n",
       "    </tr>\n",
       "    <tr>\n",
       "      <th>2018-11-27 00:00:04.250260</th>\n",
       "      <td>XBTUSD</td>\n",
       "      <td>Buy</td>\n",
       "      <td>20</td>\n",
       "      <td>3724.5</td>\n",
       "      <td>ZeroPlusTick</td>\n",
       "      <td>c50cf101-1c0d-445f-42c4-fc5339641968</td>\n",
       "      <td>536980</td>\n",
       "      <td>0.005370</td>\n",
       "      <td>20.0</td>\n",
       "      <td>3714.091867</td>\n",
       "    </tr>\n",
       "    <tr>\n",
       "      <th>2018-11-27 00:00:04.250260</th>\n",
       "      <td>XBTUSD</td>\n",
       "      <td>Buy</td>\n",
       "      <td>480</td>\n",
       "      <td>3724.5</td>\n",
       "      <td>ZeroPlusTick</td>\n",
       "      <td>b71da1f1-b76e-c1e5-59ab-765438000186</td>\n",
       "      <td>12887520</td>\n",
       "      <td>0.128875</td>\n",
       "      <td>480.0</td>\n",
       "      <td>3714.091867</td>\n",
       "    </tr>\n",
       "    <tr>\n",
       "      <th>2018-11-27 00:00:04.255471</th>\n",
       "      <td>XBTUSD</td>\n",
       "      <td>Buy</td>\n",
       "      <td>1000</td>\n",
       "      <td>3724.5</td>\n",
       "      <td>ZeroPlusTick</td>\n",
       "      <td>f7741936-b74c-844b-5023-a85712fe819e</td>\n",
       "      <td>26849000</td>\n",
       "      <td>0.268490</td>\n",
       "      <td>1000.0</td>\n",
       "      <td>3714.091867</td>\n",
       "    </tr>\n",
       "    <tr>\n",
       "      <th>2018-11-27 00:00:04.262041</th>\n",
       "      <td>XBTUSD</td>\n",
       "      <td>Buy</td>\n",
       "      <td>1000</td>\n",
       "      <td>3724.5</td>\n",
       "      <td>ZeroPlusTick</td>\n",
       "      <td>9f5d581b-0eef-4dcd-16a2-019488ec38b8</td>\n",
       "      <td>26849000</td>\n",
       "      <td>0.268490</td>\n",
       "      <td>1000.0</td>\n",
       "      <td>3714.091867</td>\n",
       "    </tr>\n",
       "  </tbody>\n",
       "</table>\n",
       "</div>"
      ],
      "text/plain": [
       "                            symbol side  size   price tickDirection  \\\n",
       "timestamp                                                             \n",
       "2018-11-27 00:00:03.851282  XBTUSD  Buy    10  3724.5  ZeroPlusTick   \n",
       "2018-11-27 00:00:04.250260  XBTUSD  Buy    20  3724.5  ZeroPlusTick   \n",
       "2018-11-27 00:00:04.250260  XBTUSD  Buy   480  3724.5  ZeroPlusTick   \n",
       "2018-11-27 00:00:04.255471  XBTUSD  Buy  1000  3724.5  ZeroPlusTick   \n",
       "2018-11-27 00:00:04.262041  XBTUSD  Buy  1000  3724.5  ZeroPlusTick   \n",
       "\n",
       "                                                      trdMatchID  grossValue  \\\n",
       "timestamp                                                                      \n",
       "2018-11-27 00:00:03.851282  538c244f-a1a9-61db-da2e-6db7b76e7507      268490   \n",
       "2018-11-27 00:00:04.250260  c50cf101-1c0d-445f-42c4-fc5339641968      536980   \n",
       "2018-11-27 00:00:04.250260  b71da1f1-b76e-c1e5-59ab-765438000186    12887520   \n",
       "2018-11-27 00:00:04.255471  f7741936-b74c-844b-5023-a85712fe819e    26849000   \n",
       "2018-11-27 00:00:04.262041  9f5d581b-0eef-4dcd-16a2-019488ec38b8    26849000   \n",
       "\n",
       "                            homeNotional  foreignNotional         vwap  \n",
       "timestamp                                                               \n",
       "2018-11-27 00:00:03.851282      0.002685             10.0  3714.091867  \n",
       "2018-11-27 00:00:04.250260      0.005370             20.0  3714.091867  \n",
       "2018-11-27 00:00:04.250260      0.128875            480.0  3714.091867  \n",
       "2018-11-27 00:00:04.255471      0.268490           1000.0  3714.091867  \n",
       "2018-11-27 00:00:04.262041      0.268490           1000.0  3714.091867  "
      ]
     },
     "execution_count": 4,
     "metadata": {},
     "output_type": "execute_result"
    }
   ],
   "source": [
    "data_time_vwap.head()"
   ]
  },
  {
   "cell_type": "code",
   "execution_count": 5,
   "metadata": {},
   "outputs": [
    {
     "data": {
      "text/plain": [
       "<matplotlib.axes._subplots.AxesSubplot at 0x2d9c497a7b8>"
      ]
     },
     "execution_count": 5,
     "metadata": {},
     "output_type": "execute_result"
    },
    {
     "data": {
      "image/png": "[encoded data removed]",
      "text/plain": [
       "<Figure size 432x288 with 1 Axes>"
      ]
     },
     "metadata": {
      "needs_background": "light"
     },
     "output_type": "display_data"
    }
   ],
   "source": [
    "data_time_vwap['vwap'].plot()"
   ]
  },
  {
   "cell_type": "code",
   "execution_count": 33,
   "metadata": {},
   "outputs": [],
   "source": [
    "\"\"\"\n",
    "Tick Bars\n",
    "\n",
    "The idea behind tick bars is to sample observations every N transactions, aka \"ticks\", instead of fixed\n",
    "time buckets. This allows us to capture more information at times when many trades take place, and vice-versa.\n",
    "\"\"\"\n",
    "total_ticks = len(data)\n",
    "num_ticks_per_bar = total_ticks / num_time_bars\n",
    "num_ticks_per_bar = round(num_ticks_per_bar, -3) # round to the nearest thousand\n",
    "data_tick_grp = data.reset_index().assign(grpId=lambda row: row.index // num_ticks_per_bar)\n",
    "data_tick_vwap = data_tick_grp.groupby('grpId').apply(compute_vwap)\n",
    "data_tick_vwap.set_index('timestamp', inplace=True)"
   ]
  },
  {
   "cell_type": "code",
   "execution_count": 28,
   "metadata": {},
   "outputs": [
    {
     "data": {
      "text/plain": [
       "(2577068, 288, 9000.0)"
      ]
     },
     "execution_count": 28,
     "metadata": {},
     "output_type": "execute_result"
    }
   ],
   "source": [
    "total_ticks, num_time_bars, num_ticks_per_bar"
   ]
  },
  {
   "cell_type": "code",
   "execution_count": 7,
   "metadata": {},
   "outputs": [
    {
     "data": {
      "text/html": [
       "<div>\n",
       "<style scoped>\n",
       "    .dataframe tbody tr th:only-of-type {\n",
       "        vertical-align: middle;\n",
       "    }\n",
       "\n",
       "    .dataframe tbody tr th {\n",
       "        vertical-align: top;\n",
       "    }\n",
       "\n",
       "    .dataframe thead th {\n",
       "        text-align: right;\n",
       "    }\n",
       "</style>\n",
       "<table border=\"1\" class=\"dataframe\">\n",
       "  <thead>\n",
       "    <tr style=\"text-align: right;\">\n",
       "      <th></th>\n",
       "      <th>index</th>\n",
       "      <th>symbol</th>\n",
       "      <th>side</th>\n",
       "      <th>size</th>\n",
       "      <th>price</th>\n",
       "      <th>tickDirection</th>\n",
       "      <th>trdMatchID</th>\n",
       "      <th>grossValue</th>\n",
       "      <th>homeNotional</th>\n",
       "      <th>foreignNotional</th>\n",
       "      <th>grpId</th>\n",
       "      <th>vwap</th>\n",
       "    </tr>\n",
       "    <tr>\n",
       "      <th>timestamp</th>\n",
       "      <th></th>\n",
       "      <th></th>\n",
       "      <th></th>\n",
       "      <th></th>\n",
       "      <th></th>\n",
       "      <th></th>\n",
       "      <th></th>\n",
       "      <th></th>\n",
       "      <th></th>\n",
       "      <th></th>\n",
       "      <th></th>\n",
       "      <th></th>\n",
       "    </tr>\n",
       "  </thead>\n",
       "  <tbody>\n",
       "    <tr>\n",
       "      <th>2018-11-27 00:00:03.851282</th>\n",
       "      <td>218349</td>\n",
       "      <td>XBTUSD</td>\n",
       "      <td>Buy</td>\n",
       "      <td>10</td>\n",
       "      <td>3724.5</td>\n",
       "      <td>ZeroPlusTick</td>\n",
       "      <td>538c244f-a1a9-61db-da2e-6db7b76e7507</td>\n",
       "      <td>268490</td>\n",
       "      <td>0.002685</td>\n",
       "      <td>10.0</td>\n",
       "      <td>0.0</td>\n",
       "      <td>3714.029558</td>\n",
       "    </tr>\n",
       "    <tr>\n",
       "      <th>2018-11-27 00:00:04.250260</th>\n",
       "      <td>218350</td>\n",
       "      <td>XBTUSD</td>\n",
       "      <td>Buy</td>\n",
       "      <td>20</td>\n",
       "      <td>3724.5</td>\n",
       "      <td>ZeroPlusTick</td>\n",
       "      <td>c50cf101-1c0d-445f-42c4-fc5339641968</td>\n",
       "      <td>536980</td>\n",
       "      <td>0.005370</td>\n",
       "      <td>20.0</td>\n",
       "      <td>0.0</td>\n",
       "      <td>3714.029558</td>\n",
       "    </tr>\n",
       "    <tr>\n",
       "      <th>2018-11-27 00:00:04.250260</th>\n",
       "      <td>218351</td>\n",
       "      <td>XBTUSD</td>\n",
       "      <td>Buy</td>\n",
       "      <td>480</td>\n",
       "      <td>3724.5</td>\n",
       "      <td>ZeroPlusTick</td>\n",
       "      <td>b71da1f1-b76e-c1e5-59ab-765438000186</td>\n",
       "      <td>12887520</td>\n",
       "      <td>0.128875</td>\n",
       "      <td>480.0</td>\n",
       "      <td>0.0</td>\n",
       "      <td>3714.029558</td>\n",
       "    </tr>\n",
       "    <tr>\n",
       "      <th>2018-11-27 00:00:04.255471</th>\n",
       "      <td>218352</td>\n",
       "      <td>XBTUSD</td>\n",
       "      <td>Buy</td>\n",
       "      <td>1000</td>\n",
       "      <td>3724.5</td>\n",
       "      <td>ZeroPlusTick</td>\n",
       "      <td>f7741936-b74c-844b-5023-a85712fe819e</td>\n",
       "      <td>26849000</td>\n",
       "      <td>0.268490</td>\n",
       "      <td>1000.0</td>\n",
       "      <td>0.0</td>\n",
       "      <td>3714.029558</td>\n",
       "    </tr>\n",
       "    <tr>\n",
       "      <th>2018-11-27 00:00:04.262041</th>\n",
       "      <td>218353</td>\n",
       "      <td>XBTUSD</td>\n",
       "      <td>Buy</td>\n",
       "      <td>1000</td>\n",
       "      <td>3724.5</td>\n",
       "      <td>ZeroPlusTick</td>\n",
       "      <td>9f5d581b-0eef-4dcd-16a2-019488ec38b8</td>\n",
       "      <td>26849000</td>\n",
       "      <td>0.268490</td>\n",
       "      <td>1000.0</td>\n",
       "      <td>0.0</td>\n",
       "      <td>3714.029558</td>\n",
       "    </tr>\n",
       "  </tbody>\n",
       "</table>\n",
       "</div>"
      ],
      "text/plain": [
       "                             index  symbol side  size   price tickDirection  \\\n",
       "timestamp                                                                     \n",
       "2018-11-27 00:00:03.851282  218349  XBTUSD  Buy    10  3724.5  ZeroPlusTick   \n",
       "2018-11-27 00:00:04.250260  218350  XBTUSD  Buy    20  3724.5  ZeroPlusTick   \n",
       "2018-11-27 00:00:04.250260  218351  XBTUSD  Buy   480  3724.5  ZeroPlusTick   \n",
       "2018-11-27 00:00:04.255471  218352  XBTUSD  Buy  1000  3724.5  ZeroPlusTick   \n",
       "2018-11-27 00:00:04.262041  218353  XBTUSD  Buy  1000  3724.5  ZeroPlusTick   \n",
       "\n",
       "                                                      trdMatchID  grossValue  \\\n",
       "timestamp                                                                      \n",
       "2018-11-27 00:00:03.851282  538c244f-a1a9-61db-da2e-6db7b76e7507      268490   \n",
       "2018-11-27 00:00:04.250260  c50cf101-1c0d-445f-42c4-fc5339641968      536980   \n",
       "2018-11-27 00:00:04.250260  b71da1f1-b76e-c1e5-59ab-765438000186    12887520   \n",
       "2018-11-27 00:00:04.255471  f7741936-b74c-844b-5023-a85712fe819e    26849000   \n",
       "2018-11-27 00:00:04.262041  9f5d581b-0eef-4dcd-16a2-019488ec38b8    26849000   \n",
       "\n",
       "                            homeNotional  foreignNotional  grpId         vwap  \n",
       "timestamp                                                                      \n",
       "2018-11-27 00:00:03.851282      0.002685             10.0    0.0  3714.029558  \n",
       "2018-11-27 00:00:04.250260      0.005370             20.0    0.0  3714.029558  \n",
       "2018-11-27 00:00:04.250260      0.128875            480.0    0.0  3714.029558  \n",
       "2018-11-27 00:00:04.255471      0.268490           1000.0    0.0  3714.029558  \n",
       "2018-11-27 00:00:04.262041      0.268490           1000.0    0.0  3714.029558  "
      ]
     },
     "execution_count": 7,
     "metadata": {},
     "output_type": "execute_result"
    }
   ],
   "source": [
    "data_tick_vwap.head()"
   ]
  },
  {
   "cell_type": "code",
   "execution_count": 35,
   "metadata": {},
   "outputs": [
    {
     "data": {
      "text/plain": [
       "<matplotlib.axes._subplots.AxesSubplot at 0x2da8fdb9d30>"
      ]
     },
     "execution_count": 35,
     "metadata": {},
     "output_type": "execute_result"
    },
    {
     "data": {
      "image/png": "[encoded data removed]",
      "text/plain": [
       "<Figure size 432x288 with 1 Axes>"
      ]
     },
     "metadata": {
      "needs_background": "light"
     },
     "output_type": "display_data"
    }
   ],
   "source": [
    "data_time_vwap['vwap'].plot()\n",
    "data_tick_vwap['vwap'].plot()"
   ]
  },
  {
   "cell_type": "code",
   "execution_count": 36,
   "metadata": {},
   "outputs": [],
   "source": [
    "\"\"\"\n",
    "Volume Bars\n",
    "\n",
    "One shortcoming of tick bars is that not all trades are equal. Consider that an order to buy 1000 contracts\n",
    "is executed as one transaction, and 10 orders for 100 contracts will count for 10 transactions. It may make\n",
    "sense to sample observations for every N contracts exchanged independent of how many trades took place.\n",
    "\"\"\"\n",
    "data_cm_vol = data.assign(cmVol=data['homeNotional'].cumsum()) \n",
    "total_vol = data_cm_vol.cmVol.values[-1]\n",
    "vol_per_bar = total_vol / num_time_bars\n",
    "vol_per_bar = round(vol_per_bar, -2) # round to the nearest hundred\n",
    "data_vol_grp = data_cm_vol.assign(grpId=lambda row: row.cmVol // vol_per_bar)\n",
    "data_vol_vwap =  data_vol_grp.groupby('grpId').apply(compute_vwap)\n",
    "data_vol_vwap.set_index('timestamp', inplace=True)"
   ]
  },
  {
   "cell_type": "code",
   "execution_count": 12,
   "metadata": {},
   "outputs": [
    {
     "data": {
      "text/html": [
       "<div>\n",
       "<style scoped>\n",
       "    .dataframe tbody tr th:only-of-type {\n",
       "        vertical-align: middle;\n",
       "    }\n",
       "\n",
       "    .dataframe tbody tr th {\n",
       "        vertical-align: top;\n",
       "    }\n",
       "\n",
       "    .dataframe thead th {\n",
       "        text-align: right;\n",
       "    }\n",
       "</style>\n",
       "<table border=\"1\" class=\"dataframe\">\n",
       "  <thead>\n",
       "    <tr style=\"text-align: right;\">\n",
       "      <th></th>\n",
       "      <th>symbol</th>\n",
       "      <th>side</th>\n",
       "      <th>size</th>\n",
       "      <th>price</th>\n",
       "      <th>tickDirection</th>\n",
       "      <th>trdMatchID</th>\n",
       "      <th>grossValue</th>\n",
       "      <th>homeNotional</th>\n",
       "      <th>foreignNotional</th>\n",
       "      <th>cmVol</th>\n",
       "      <th>grpId</th>\n",
       "      <th>vwap</th>\n",
       "    </tr>\n",
       "    <tr>\n",
       "      <th>timestamp</th>\n",
       "      <th></th>\n",
       "      <th></th>\n",
       "      <th></th>\n",
       "      <th></th>\n",
       "      <th></th>\n",
       "      <th></th>\n",
       "      <th></th>\n",
       "      <th></th>\n",
       "      <th></th>\n",
       "      <th></th>\n",
       "      <th></th>\n",
       "      <th></th>\n",
       "    </tr>\n",
       "  </thead>\n",
       "  <tbody>\n",
       "    <tr>\n",
       "      <th>2018-11-27 00:00:03.851282</th>\n",
       "      <td>XBTUSD</td>\n",
       "      <td>Buy</td>\n",
       "      <td>10</td>\n",
       "      <td>3724.5</td>\n",
       "      <td>ZeroPlusTick</td>\n",
       "      <td>538c244f-a1a9-61db-da2e-6db7b76e7507</td>\n",
       "      <td>268490</td>\n",
       "      <td>0.002685</td>\n",
       "      <td>10.0</td>\n",
       "      <td>0.002685</td>\n",
       "      <td>0.0</td>\n",
       "      <td>3713.93112</td>\n",
       "    </tr>\n",
       "    <tr>\n",
       "      <th>2018-11-27 00:00:04.250260</th>\n",
       "      <td>XBTUSD</td>\n",
       "      <td>Buy</td>\n",
       "      <td>20</td>\n",
       "      <td>3724.5</td>\n",
       "      <td>ZeroPlusTick</td>\n",
       "      <td>c50cf101-1c0d-445f-42c4-fc5339641968</td>\n",
       "      <td>536980</td>\n",
       "      <td>0.005370</td>\n",
       "      <td>20.0</td>\n",
       "      <td>0.008055</td>\n",
       "      <td>0.0</td>\n",
       "      <td>3713.93112</td>\n",
       "    </tr>\n",
       "    <tr>\n",
       "      <th>2018-11-27 00:00:04.250260</th>\n",
       "      <td>XBTUSD</td>\n",
       "      <td>Buy</td>\n",
       "      <td>480</td>\n",
       "      <td>3724.5</td>\n",
       "      <td>ZeroPlusTick</td>\n",
       "      <td>b71da1f1-b76e-c1e5-59ab-765438000186</td>\n",
       "      <td>12887520</td>\n",
       "      <td>0.128875</td>\n",
       "      <td>480.0</td>\n",
       "      <td>0.136930</td>\n",
       "      <td>0.0</td>\n",
       "      <td>3713.93112</td>\n",
       "    </tr>\n",
       "    <tr>\n",
       "      <th>2018-11-27 00:00:04.255471</th>\n",
       "      <td>XBTUSD</td>\n",
       "      <td>Buy</td>\n",
       "      <td>1000</td>\n",
       "      <td>3724.5</td>\n",
       "      <td>ZeroPlusTick</td>\n",
       "      <td>f7741936-b74c-844b-5023-a85712fe819e</td>\n",
       "      <td>26849000</td>\n",
       "      <td>0.268490</td>\n",
       "      <td>1000.0</td>\n",
       "      <td>0.405420</td>\n",
       "      <td>0.0</td>\n",
       "      <td>3713.93112</td>\n",
       "    </tr>\n",
       "    <tr>\n",
       "      <th>2018-11-27 00:00:04.262041</th>\n",
       "      <td>XBTUSD</td>\n",
       "      <td>Buy</td>\n",
       "      <td>1000</td>\n",
       "      <td>3724.5</td>\n",
       "      <td>ZeroPlusTick</td>\n",
       "      <td>9f5d581b-0eef-4dcd-16a2-019488ec38b8</td>\n",
       "      <td>26849000</td>\n",
       "      <td>0.268490</td>\n",
       "      <td>1000.0</td>\n",
       "      <td>0.673910</td>\n",
       "      <td>0.0</td>\n",
       "      <td>3713.93112</td>\n",
       "    </tr>\n",
       "  </tbody>\n",
       "</table>\n",
       "</div>"
      ],
      "text/plain": [
       "                            symbol side  size   price tickDirection  \\\n",
       "timestamp                                                             \n",
       "2018-11-27 00:00:03.851282  XBTUSD  Buy    10  3724.5  ZeroPlusTick   \n",
       "2018-11-27 00:00:04.250260  XBTUSD  Buy    20  3724.5  ZeroPlusTick   \n",
       "2018-11-27 00:00:04.250260  XBTUSD  Buy   480  3724.5  ZeroPlusTick   \n",
       "2018-11-27 00:00:04.255471  XBTUSD  Buy  1000  3724.5  ZeroPlusTick   \n",
       "2018-11-27 00:00:04.262041  XBTUSD  Buy  1000  3724.5  ZeroPlusTick   \n",
       "\n",
       "                                                      trdMatchID  grossValue  \\\n",
       "timestamp                                                                      \n",
       "2018-11-27 00:00:03.851282  538c244f-a1a9-61db-da2e-6db7b76e7507      268490   \n",
       "2018-11-27 00:00:04.250260  c50cf101-1c0d-445f-42c4-fc5339641968      536980   \n",
       "2018-11-27 00:00:04.250260  b71da1f1-b76e-c1e5-59ab-765438000186    12887520   \n",
       "2018-11-27 00:00:04.255471  f7741936-b74c-844b-5023-a85712fe819e    26849000   \n",
       "2018-11-27 00:00:04.262041  9f5d581b-0eef-4dcd-16a2-019488ec38b8    26849000   \n",
       "\n",
       "                            homeNotional  foreignNotional     cmVol  grpId  \\\n",
       "timestamp                                                                    \n",
       "2018-11-27 00:00:03.851282      0.002685             10.0  0.002685    0.0   \n",
       "2018-11-27 00:00:04.250260      0.005370             20.0  0.008055    0.0   \n",
       "2018-11-27 00:00:04.250260      0.128875            480.0  0.136930    0.0   \n",
       "2018-11-27 00:00:04.255471      0.268490           1000.0  0.405420    0.0   \n",
       "2018-11-27 00:00:04.262041      0.268490           1000.0  0.673910    0.0   \n",
       "\n",
       "                                  vwap  \n",
       "timestamp                               \n",
       "2018-11-27 00:00:03.851282  3713.93112  \n",
       "2018-11-27 00:00:04.250260  3713.93112  \n",
       "2018-11-27 00:00:04.250260  3713.93112  \n",
       "2018-11-27 00:00:04.255471  3713.93112  \n",
       "2018-11-27 00:00:04.262041  3713.93112  "
      ]
     },
     "execution_count": 12,
     "metadata": {},
     "output_type": "execute_result"
    }
   ],
   "source": [
    "data_vol_vwap.head()"
   ]
  },
  {
   "cell_type": "code",
   "execution_count": 48,
   "metadata": {},
   "outputs": [
    {
     "data": {
      "text/plain": [
       "Text(0.5, 1.0, 'XBT time and volume bars')"
      ]
     },
     "execution_count": 48,
     "metadata": {},
     "output_type": "execute_result"
    },
    {
     "data": {
      "image/png": "[encoded data removed]",
      "text/plain": [
       "<Figure size 720x432 with 1 Axes>"
      ]
     },
     "metadata": {
      "needs_background": "light"
     },
     "output_type": "display_data"
    }
   ],
   "source": [
    "fig, ax = plt.subplots(figsize = (10,6))\n",
    "ax.plot(data_time_vwap['vwap'], label='time bars')\n",
    "ax.plot(data_vol_vwap['vwap'], label='BTC volume bars')\n",
    "plt.title('XBT time and volume bars')"
   ]
  },
  {
   "cell_type": "code",
   "execution_count": 37,
   "metadata": {},
   "outputs": [
    {
     "data": {
      "text/plain": [
       "<matplotlib.axes._subplots.AxesSubplot at 0x2da8fdb1a20>"
      ]
     },
     "execution_count": 37,
     "metadata": {},
     "output_type": "execute_result"
    },
    {
     "data": {
      "image/png": "[encoded data removed]",
      "text/plain": [
       "<Figure size 432x288 with 1 Axes>"
      ]
     },
     "metadata": {
      "needs_background": "light"
     },
     "output_type": "display_data"
    }
   ],
   "source": [
    "\n",
    "data_time_vwap['vwap'].plot()\n",
    "data_vol_vwap['vwap'].plot()"
   ]
  },
  {
   "cell_type": "code",
   "execution_count": null,
   "metadata": {},
   "outputs": [],
   "source": [
    "# code omitted for brevity\n",
    "# same as volume bars, except using data['foreignNotional'] instead of data['homeNotional']"
   ]
  },
  {
   "cell_type": "code",
   "execution_count": 19,
   "metadata": {},
   "outputs": [
    {
     "data": {
      "text/plain": [
       "'\\nImplementing Dollar Imbalance Bars\\n'"
      ]
     },
     "execution_count": 19,
     "metadata": {},
     "output_type": "execute_result"
    }
   ],
   "source": [
    "\"\"\"\n",
    "Implementing Dollar Imbalance Bars\n",
    "\"\"\""
   ]
  },
  {
   "cell_type": "code",
   "execution_count": 21,
   "metadata": {},
   "outputs": [
    {
     "ename": "ValueError",
     "evalue": "converting invalid input: 1",
     "output_type": "error",
     "traceback": [
      "\u001b[1;31m---------------------------------------------------------------------------\u001b[0m",
      "\u001b[1;31mValueError\u001b[0m                                Traceback (most recent call last)",
      "\u001b[1;32m<ipython-input-21-9ae4abf2c090>\u001b[0m in \u001b[0;36m<module>\u001b[1;34m\u001b[0m\n\u001b[0;32m      6\u001b[0m     \u001b[1;32melse\u001b[0m\u001b[1;33m:\u001b[0m\u001b[1;33m\u001b[0m\u001b[1;33m\u001b[0m\u001b[0m\n\u001b[0;32m      7\u001b[0m         \u001b[1;32mraise\u001b[0m \u001b[0mValueError\u001b[0m\u001b[1;33m(\u001b[0m\u001b[1;34m'converting invalid input: '\u001b[0m\u001b[1;33m+\u001b[0m \u001b[0mstr\u001b[0m\u001b[1;33m(\u001b[0m\u001b[0mtick_direction\u001b[0m\u001b[1;33m)\u001b[0m\u001b[1;33m)\u001b[0m\u001b[1;33m\u001b[0m\u001b[1;33m\u001b[0m\u001b[0m\n\u001b[1;32m----> 8\u001b[1;33m \u001b[0mdata_timeidx\u001b[0m\u001b[1;33m[\u001b[0m\u001b[1;34m'tickDirection'\u001b[0m\u001b[1;33m]\u001b[0m \u001b[1;33m=\u001b[0m \u001b[0mdata_timeidx\u001b[0m\u001b[1;33m.\u001b[0m\u001b[0mtickDirection\u001b[0m\u001b[1;33m.\u001b[0m\u001b[0mmap\u001b[0m\u001b[1;33m(\u001b[0m\u001b[0mconvert_tick_direction\u001b[0m\u001b[1;33m)\u001b[0m\u001b[1;33m\u001b[0m\u001b[1;33m\u001b[0m\u001b[0m\n\u001b[0m",
      "\u001b[1;32mC:\\ProgramData\\Anaconda3\\lib\\site-packages\\pandas\\core\\series.py\u001b[0m in \u001b[0;36mmap\u001b[1;34m(self, arg, na_action)\u001b[0m\n\u001b[0;32m   3380\u001b[0m         \"\"\"\n\u001b[0;32m   3381\u001b[0m         new_values = super(Series, self)._map_values(\n\u001b[1;32m-> 3382\u001b[1;33m             arg, na_action=na_action)\n\u001b[0m\u001b[0;32m   3383\u001b[0m         return self._constructor(new_values,\n\u001b[0;32m   3384\u001b[0m                                  index=self.index).__finalize__(self)\n",
      "\u001b[1;32mC:\\ProgramData\\Anaconda3\\lib\\site-packages\\pandas\\core\\base.py\u001b[0m in \u001b[0;36m_map_values\u001b[1;34m(self, mapper, na_action)\u001b[0m\n\u001b[0;32m   1216\u001b[0m \u001b[1;33m\u001b[0m\u001b[0m\n\u001b[0;32m   1217\u001b[0m         \u001b[1;31m# mapper is a function\u001b[0m\u001b[1;33m\u001b[0m\u001b[1;33m\u001b[0m\u001b[1;33m\u001b[0m\u001b[0m\n\u001b[1;32m-> 1218\u001b[1;33m         \u001b[0mnew_values\u001b[0m \u001b[1;33m=\u001b[0m \u001b[0mmap_f\u001b[0m\u001b[1;33m(\u001b[0m\u001b[0mvalues\u001b[0m\u001b[1;33m,\u001b[0m \u001b[0mmapper\u001b[0m\u001b[1;33m)\u001b[0m\u001b[1;33m\u001b[0m\u001b[1;33m\u001b[0m\u001b[0m\n\u001b[0m\u001b[0;32m   1219\u001b[0m \u001b[1;33m\u001b[0m\u001b[0m\n\u001b[0;32m   1220\u001b[0m         \u001b[1;32mreturn\u001b[0m \u001b[0mnew_values\u001b[0m\u001b[1;33m\u001b[0m\u001b[1;33m\u001b[0m\u001b[0m\n",
      "\u001b[1;32mpandas/_libs/lib.pyx\u001b[0m in \u001b[0;36mpandas._libs.lib.map_infer\u001b[1;34m()\u001b[0m\n",
      "\u001b[1;32m<ipython-input-21-9ae4abf2c090>\u001b[0m in \u001b[0;36mconvert_tick_direction\u001b[1;34m(tick_direction)\u001b[0m\n\u001b[0;32m      5\u001b[0m         \u001b[1;32mreturn\u001b[0m \u001b[1;33m-\u001b[0m\u001b[1;36m1\u001b[0m\u001b[1;33m\u001b[0m\u001b[1;33m\u001b[0m\u001b[0m\n\u001b[0;32m      6\u001b[0m     \u001b[1;32melse\u001b[0m\u001b[1;33m:\u001b[0m\u001b[1;33m\u001b[0m\u001b[1;33m\u001b[0m\u001b[0m\n\u001b[1;32m----> 7\u001b[1;33m         \u001b[1;32mraise\u001b[0m \u001b[0mValueError\u001b[0m\u001b[1;33m(\u001b[0m\u001b[1;34m'converting invalid input: '\u001b[0m\u001b[1;33m+\u001b[0m \u001b[0mstr\u001b[0m\u001b[1;33m(\u001b[0m\u001b[0mtick_direction\u001b[0m\u001b[1;33m)\u001b[0m\u001b[1;33m)\u001b[0m\u001b[1;33m\u001b[0m\u001b[1;33m\u001b[0m\u001b[0m\n\u001b[0m\u001b[0;32m      8\u001b[0m \u001b[0mdata_timeidx\u001b[0m\u001b[1;33m[\u001b[0m\u001b[1;34m'tickDirection'\u001b[0m\u001b[1;33m]\u001b[0m \u001b[1;33m=\u001b[0m \u001b[0mdata_timeidx\u001b[0m\u001b[1;33m.\u001b[0m\u001b[0mtickDirection\u001b[0m\u001b[1;33m.\u001b[0m\u001b[0mmap\u001b[0m\u001b[1;33m(\u001b[0m\u001b[0mconvert_tick_direction\u001b[0m\u001b[1;33m)\u001b[0m\u001b[1;33m\u001b[0m\u001b[1;33m\u001b[0m\u001b[0m\n",
      "\u001b[1;31mValueError\u001b[0m: converting invalid input: 1"
     ]
    }
   ],
   "source": [
    "def convert_tick_direction(tick_direction):\n",
    "    if tick_direction in ('PlusTick', 'ZeroPlusTick'):\n",
    "        return 1\n",
    "    elif tick_direction in ('MinusTick', 'ZeroMinusTick'):\n",
    "        return -1\n",
    "    else:\n",
    "        raise ValueError('converting invalid input: '+ str(tick_direction))\n",
    "data_timeidx['tickDirection'] = data_timeidx.tickDirection.map(convert_tick_direction)"
   ]
  },
  {
   "cell_type": "code",
   "execution_count": 23,
   "metadata": {},
   "outputs": [],
   "source": [
    "# 1.2 Compute signed flows at each tick\n",
    "data_signed_flow = data_timeidx.assign(bv = data_timeidx.tickDirection * data_timeidx.size)"
   ]
  },
  {
   "cell_type": "code",
   "execution_count": 24,
   "metadata": {},
   "outputs": [
    {
     "ename": "ModuleNotFoundError",
     "evalue": "No module named 'fast_ewma'",
     "output_type": "error",
     "traceback": [
      "\u001b[1;31m---------------------------------------------------------------------------\u001b[0m",
      "\u001b[1;31mModuleNotFoundError\u001b[0m                       Traceback (most recent call last)",
      "\u001b[1;32m<ipython-input-24-cd7f221416e9>\u001b[0m in \u001b[0;36m<module>\u001b[1;34m\u001b[0m\n\u001b[0;32m      1\u001b[0m \u001b[1;31m# 2. Accumulate dollar imbalance bars\u001b[0m\u001b[1;33m\u001b[0m\u001b[1;33m\u001b[0m\u001b[1;33m\u001b[0m\u001b[0m\n\u001b[1;32m----> 2\u001b[1;33m \u001b[1;32mfrom\u001b[0m \u001b[0mfast_ewma\u001b[0m \u001b[1;32mimport\u001b[0m \u001b[0m_ewma\u001b[0m\u001b[1;33m\u001b[0m\u001b[1;33m\u001b[0m\u001b[0m\n\u001b[0m\u001b[0;32m      3\u001b[0m \u001b[0mabs_Ebv_init\u001b[0m \u001b[1;33m=\u001b[0m \u001b[0mnp\u001b[0m\u001b[1;33m.\u001b[0m\u001b[0mabs\u001b[0m\u001b[1;33m(\u001b[0m\u001b[0mdata_signed_flow\u001b[0m\u001b[1;33m[\u001b[0m\u001b[1;34m'bv'\u001b[0m\u001b[1;33m]\u001b[0m\u001b[1;33m.\u001b[0m\u001b[0mmean\u001b[0m\u001b[1;33m(\u001b[0m\u001b[1;33m)\u001b[0m\u001b[1;33m)\u001b[0m\u001b[1;33m\u001b[0m\u001b[1;33m\u001b[0m\u001b[0m\n\u001b[0;32m      4\u001b[0m \u001b[0mE_T_init\u001b[0m \u001b[1;33m=\u001b[0m \u001b[1;36m500000\u001b[0m \u001b[1;31m# 500000 ticks to warm up\u001b[0m\u001b[1;33m\u001b[0m\u001b[1;33m\u001b[0m\u001b[0m\n\u001b[0;32m      5\u001b[0m \u001b[1;32mdef\u001b[0m \u001b[0mcompute_Ts\u001b[0m\u001b[1;33m(\u001b[0m\u001b[0mbvs\u001b[0m\u001b[1;33m,\u001b[0m \u001b[0mE_T_init\u001b[0m\u001b[1;33m,\u001b[0m \u001b[0mabs_Ebv_init\u001b[0m\u001b[1;33m)\u001b[0m\u001b[1;33m:\u001b[0m\u001b[1;33m\u001b[0m\u001b[1;33m\u001b[0m\u001b[0m\n",
      "\u001b[1;31mModuleNotFoundError\u001b[0m: No module named 'fast_ewma'"
     ]
    }
   ],
   "source": [
    "# 2. Accumulate dollar imbalance bars\n",
    "from fast_ewma import _ewma\n",
    "abs_Ebv_init = np.abs(data_signed_flow['bv'].mean())\n",
    "E_T_init = 500000 # 500000 ticks to warm up\n",
    "def compute_Ts(bvs, E_T_init, abs_Ebv_init):\n",
    "    Ts, i_s = [], []\n",
    "    i_prev, E_T, abs_Ebv  = 0, E_T_init, abs_Ebv_init\n",
    "    \n",
    "    n = bvs.shape[0]\n",
    "    bvs_val = bvs.values.astype(np.float64)\n",
    "    abs_thetas, thresholds = np.zeros(n), np.zeros(n)\n",
    "    abs_thetas[0], cur_theta = np.abs(bvs_val[0]), bvs_val[0]\n",
    "    for i in range(1, n):\n",
    "        cur_theta += bvs_val[i]\n",
    "        abs_theta = np.abs(cur_theta)\n",
    "        abs_thetas[i] = abs_theta\n",
    "        \n",
    "        threshold = E_T * abs_Ebv\n",
    "        thresholds[i] = threshold\n",
    "        \n",
    "        if abs_theta >= threshold:\n",
    "            cur_theta = 0\n",
    "            Ts.append(np.float64(i - i_prev))\n",
    "            i_s.append(i)\n",
    "            i_prev = i\n",
    "            E_T = _ewma(np.array(Ts), window=np.int64(len(Ts)))[-1]\n",
    "            abs_Ebv = np.abs( _ewma(bvs_val[:i], window=np.int64(E_T_init * 3))[-1] ) # window of 3 bars\n",
    "    return Ts, abs_thetas, thresholds, i_s\n",
    "Ts, abs_thetas, thresholds, i_s = compute_Ts(data_signed_flow.bv, E_T_init, abs_Ebv_init)"
   ]
  },
  {
   "cell_type": "code",
   "execution_count": 25,
   "metadata": {},
   "outputs": [
    {
     "ename": "NameError",
     "evalue": "name 'i_s' is not defined",
     "output_type": "error",
     "traceback": [
      "\u001b[1;31m---------------------------------------------------------------------------\u001b[0m",
      "\u001b[1;31mNameError\u001b[0m                                 Traceback (most recent call last)",
      "\u001b[1;32m<ipython-input-25-984ce9584505>\u001b[0m in \u001b[0;36m<module>\u001b[1;34m\u001b[0m\n\u001b[0;32m      1\u001b[0m \u001b[1;31m# Aggregate the ticks into groups based on computed boundaries\u001b[0m\u001b[1;33m\u001b[0m\u001b[1;33m\u001b[0m\u001b[1;33m\u001b[0m\u001b[0m\n\u001b[0;32m      2\u001b[0m \u001b[0mn\u001b[0m \u001b[1;33m=\u001b[0m \u001b[0mdata_signed_flow\u001b[0m\u001b[1;33m.\u001b[0m\u001b[0mshape\u001b[0m\u001b[1;33m[\u001b[0m\u001b[1;36m0\u001b[0m\u001b[1;33m]\u001b[0m\u001b[1;33m\u001b[0m\u001b[1;33m\u001b[0m\u001b[0m\n\u001b[1;32m----> 3\u001b[1;33m \u001b[0mi_iter\u001b[0m \u001b[1;33m=\u001b[0m \u001b[0miter\u001b[0m\u001b[1;33m(\u001b[0m\u001b[0mi_s\u001b[0m \u001b[1;33m+\u001b[0m \u001b[1;33m[\u001b[0m\u001b[0mn\u001b[0m\u001b[1;33m]\u001b[0m\u001b[1;33m)\u001b[0m\u001b[1;33m\u001b[0m\u001b[1;33m\u001b[0m\u001b[0m\n\u001b[0m\u001b[0;32m      4\u001b[0m \u001b[0mi_cur\u001b[0m \u001b[1;33m=\u001b[0m \u001b[0mi_iter\u001b[0m\u001b[1;33m.\u001b[0m\u001b[0m__next__\u001b[0m\u001b[1;33m(\u001b[0m\u001b[1;33m)\u001b[0m\u001b[1;33m\u001b[0m\u001b[1;33m\u001b[0m\u001b[0m\n\u001b[0;32m      5\u001b[0m \u001b[0mgrpId\u001b[0m \u001b[1;33m=\u001b[0m \u001b[0mnp\u001b[0m\u001b[1;33m.\u001b[0m\u001b[0mzeros\u001b[0m\u001b[1;33m(\u001b[0m\u001b[0mn\u001b[0m\u001b[1;33m)\u001b[0m\u001b[1;33m\u001b[0m\u001b[1;33m\u001b[0m\u001b[0m\n",
      "\u001b[1;31mNameError\u001b[0m: name 'i_s' is not defined"
     ]
    }
   ],
   "source": [
    "# Aggregate the ticks into groups based on computed boundaries\n",
    "n = data_signed_flow.shape[0]\n",
    "i_iter = iter(i_s + [n])\n",
    "i_cur = i_iter.__next__()\n",
    "grpId = np.zeros(n)\n",
    "for i in range(1, n):\n",
    "    if i <= i_cur:\n",
    "        grpId[i] = grpId[i-1]\n",
    "    else:\n",
    "        grpId[i] = grpId[i-1] + 1\n",
    "        i_cur = i_iter.__next__()"
   ]
  },
  {
   "cell_type": "code",
   "execution_count": null,
   "metadata": {},
   "outputs": [],
   "source": [
    "# Putting it all together: Dollar Imbalance Bars\n",
    "data_dollar_imb_grp = data_signed_flow.assign(grpId = grpId)\n",
    "data_dollar_imb_vwap = data_dollar_imb_grp.groupby('grpId').apply(compute_vwap).vwap"
   ]
  }
 ],
 "metadata": {
  "kernelspec": {
   "display_name": "Python 3",
   "language": "python",
   "name": "python3"
  },
  "language_info": {
   "codemirror_mode": {
    "name": "ipython",
    "version": 3
   },
   "file_extension": ".py",
   "mimetype": "text/x-python",
   "name": "python",
   "nbconvert_exporter": "python",
   "pygments_lexer": "ipython3",
   "version": "3.7.3"
  }
 },
 "nbformat": 4,
 "nbformat_minor": 4
}
